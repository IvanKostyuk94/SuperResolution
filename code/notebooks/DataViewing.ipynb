{
 "cells": [
  {
   "cell_type": "code",
   "execution_count": 2,
   "metadata": {},
   "outputs": [],
   "source": [
    "import numpy as np\n",
    "from matplotlib import pyplot as plt\n",
    "from IPython.display import Image\n",
    "import nifty5 as ift\n",
    "import void_library as VL\n",
    "import Pk_library as PKL"
   ]
  },
  {
   "cell_type": "markdown",
   "metadata": {},
   "source": [
    "Next let us analyse out training process by looking at the evolution of the cost functions of the network as well as the corresponding gradients"
   ]
  },
  {
   "cell_type": "markdown",
   "metadata": {},
   "source": [
    "Next plot the evolution of the gradients for the different networks"
   ]
  },
  {
   "cell_type": "code",
   "execution_count": 3,
   "metadata": {},
   "outputs": [],
   "source": [
    "path_to_data = '/u/ivkos/sr/GriddedSimulationsTraining/'\n",
    "path_to_sr = '/u/ivkos/sr/Output/multi_pass_no_layer_norm/'"
   ]
  },
  {
   "cell_type": "markdown",
   "metadata": {},
   "source": [
    "Function to scale the datapoints into a small $\\approx [0-1]$ range which is quite usefull for both training and viewing of the data. The scaling function is taken from the \"HIGAN\" paper. For the max mass number in the denominater we are using the maximum of the low-res simulation to be consistend with the scaling that is available when super resolving unlabeled data."
   ]
  },
  {
   "cell_type": "code",
   "execution_count": 4,
   "metadata": {},
   "outputs": [],
   "source": [
    "def scale(data, epsilon=1e-9):\n",
    "    return np.log(data+epsilon)/25+1\n",
    "def unscale(data, epsilon=1e-9):\n",
    "    return (np.exp(25*(data-1))-epsilon)\n",
    "\n",
    "def scale_2(data, epsilon=1e-9):\n",
    "    return np.log(data+epsilon)/25\n",
    "def unscale_2(data, epsilon=1e-9):\n",
    "    return (np.exp(25*(data))-epsilon)\n",
    "\n",
    "def scale_3(data, epsilon=1e-9):\n",
    "    return np.log(data+epsilon)\n",
    "def unscale_3(data, epsilon=1e-9):\n",
    "    return (np.exp(data)-epsilon)\n",
    "\n",
    "def scale_4(data, epsilon=1e-9):\n",
    "    return np.log(data+epsilon)+25\n",
    "def unscale_4(data, epsilon=1e-9):\n",
    "    return (np.exp(data-25)-epsilon)"
   ]
  },
  {
   "cell_type": "markdown",
   "metadata": {},
   "source": [
    "Next we define a trivial function which simply takes a slice out of a simulation oriented along some given axis. This ensures that we always take the same slice without having to change the number in each dataset."
   ]
  },
  {
   "cell_type": "code",
   "execution_count": 5,
   "metadata": {},
   "outputs": [],
   "source": [
    "def take_slice(data, axis=1, slice_num=420):\n",
    "    if axis == 0:\n",
    "        slice_data = np.zeros(())\n",
    "        return np.copy(data[slice_num,...])\n",
    "    elif axis == 1:\n",
    "        return np.copy(data[:,slice_num,:])\n",
    "    else:\n",
    "        return np.copy(data[:,:,slice_num])"
   ]
  },
  {
   "cell_type": "markdown",
   "metadata": {},
   "source": [
    "Define the paths of all the datasets you want to use with this script"
   ]
  },
  {
   "cell_type": "code",
   "execution_count": 6,
   "metadata": {},
   "outputs": [],
   "source": [
    "sim256_grid512_path = path_to_data+'256_grid512.npy'\n",
    "sim512_grid512_path = path_to_data+'512_grid512.npy' \n",
    "sim128_grid512_path = path_to_data+'128_grid512.npy' \n",
    "#Init_path = path_to_data + 'ics512_grid512.npy'\n",
    "#TNG_path = path_to_data+'TNG455.npy'\n",
    "#sr_path_first_only = path_to_sr+'multi_pass_no_layer_norm_sr_output_first_only.npy'\n",
    "#sr_path_second_only = path_to_sr+'multi_pass_no_layer_norm_sr_output_second_only.npy'\n",
    "#sr_path = path_to_sr+'multi_pass_no_layer_norm2_sr_output_2_runs_test.npy'"
   ]
  },
  {
   "cell_type": "markdown",
   "metadata": {},
   "source": [
    "Load the datasets take a slice from them and delete them so as to save memory. Also save the max of the low-res simulation for the normalization."
   ]
  },
  {
   "cell_type": "code",
   "execution_count": 9,
   "metadata": {},
   "outputs": [
    {
     "name": "stdout",
     "output_type": "stream",
     "text": [
      "0.23217249\n",
      "-0.2434386\n",
      "3.812711e-11\n",
      "-1.1698721e-06\n",
      "0.00024706265\n",
      "0.9679686\n",
      "0.0\n",
      "5.7068264e-05\n",
      "1.12127\n",
      "0.0\n",
      "5.6807796e-05\n"
     ]
    }
   ],
   "source": [
    "sim = np.load(sim256_grid512_path)\n",
    "sim2 = np.load(sim512_grid512_path)\n",
    "sim = sim2-sim\n",
    "\n",
    "print(np.amax(sim))\n",
    "print(np.amin(sim))\n",
    "print(np.average(sim))  \n",
    "print(np.median(sim))\n",
    "print(np.std(sim))\n",
    "slice256_grid512 = take_slice(sim)\n",
    "\n",
    "sim = np.load(sim512_grid512_path)\n",
    "print(np.amax(sim))\n",
    "print(np.amin(sim))\n",
    "print(np.average(sim))                \n",
    "slice512_grid512 = take_slice(sim)\n",
    "\n",
    "sim = np.load(sim128_grid512_path)\n",
    "print(np.amax(sim))\n",
    "print(np.amin(sim))\n",
    "print(np.average(sim))                \n",
    "slice128_grid512 = take_slice(sim)\n",
    "\n",
    "del sim"
   ]
  },
  {
   "cell_type": "markdown",
   "metadata": {},
   "source": [
    "Display the slices for visual comparison"
   ]
  },
  {
   "cell_type": "code",
   "execution_count": null,
   "metadata": {},
   "outputs": [],
   "source": [
    "f = plt.figure(figsize=(18, 18))\n",
    "f.add_subplot(2,2, 1)\n",
    "plt.imshow(scale_2(slice256_grid512), label='lr')\n",
    "plt.title('low resolution')\n",
    "\n",
    "f.add_subplot(2,2, 2)\n",
    "plt.imshow(scale_2(slice512_grid512))\n",
    "plt.title('high resolution')\n",
    "\n",
    "f.add_subplot(2,2, 3)\n",
    "plt.imshow(scale_2(slice128_grid512), label='lr')\n",
    "plt.title('very low resolution')\n",
    "plt.show()"
   ]
  },
  {
   "cell_type": "code",
   "execution_count": null,
   "metadata": {},
   "outputs": [],
   "source": [
    "def get_vsf(sim, box_size=10., radii=10/512*np.arange(5, 65, 1, dtype=np.float32)):\n",
    "    # parameters of the void finder\n",
    "    delta = (sim-np.average(sim))/np.average(sim)\n",
    "    BoxSize    = box_size\n",
    "    threshold  = -0.7\n",
    "    Radii      = radii\n",
    "    threads1   = 16\n",
    "    threads2   = 4\n",
    "    void_field = False\n",
    "    Voids = VL.void_finder(delta, BoxSize, threshold, Radii, threads1, threads2, void_field=False)\n",
    "    return (Voids.Rbins, Voids.void_vsf)"
   ]
  },
  {
   "cell_type": "code",
   "execution_count": null,
   "metadata": {},
   "outputs": [],
   "source": [
    "vsf_512 = get_vsf(np.load(sim512_grid512_path))"
   ]
  },
  {
   "cell_type": "code",
   "execution_count": null,
   "metadata": {},
   "outputs": [],
   "source": [
    "vsf_256 = get_vsf(np.load(sim256_grid512_path))"
   ]
  },
  {
   "cell_type": "code",
   "execution_count": null,
   "metadata": {},
   "outputs": [],
   "source": [
    "vsf_128 = get_vsf(np.load(sim128_grid512_path))"
   ]
  },
  {
   "cell_type": "code",
   "execution_count": null,
   "metadata": {},
   "outputs": [],
   "source": [
    "print(vsf_512[0])\n",
    "print(vsf_512[1])"
   ]
  },
  {
   "cell_type": "code",
   "execution_count": null,
   "metadata": {},
   "outputs": [],
   "source": [
    "plt.plot(vsf_512[0],vsf_128[1], label='128')\n",
    "plt.plot(vsf_512[0],vsf_256[1], label='256')\n",
    "plt.plot(vsf_512[0],vsf_512[1], label='512')\n",
    "plt.legend()\n",
    "plt.show()"
   ]
  },
  {
   "cell_type": "code",
   "execution_count": null,
   "metadata": {
    "scrolled": false
   },
   "outputs": [],
   "source": [
    "plt.plot(vsf_512[0],vsf_128[1]/vsf_512[1], label='128')\n",
    "plt.plot(vsf_512[0],vsf_256[1]/vsf_512[1], label='256')\n",
    "plt.plot(vsf_512[0],vsf_512[1]/vsf_512[1], label='512')\n",
    "plt.xlim(0.1,0.5)\n",
    "plt.ylim(0.5,1.2)\n",
    "plt.legend()\n",
    "plt.show()"
   ]
  },
  {
   "cell_type": "markdown",
   "metadata": {},
   "source": [
    "Function that calculates the bispectrum"
   ]
  },
  {
   "cell_type": "code",
   "execution_count": 21,
   "metadata": {},
   "outputs": [],
   "source": [
    "def get_bispectrum(sim, box_size=10., theta=np.linspace(0, np.pi, 25), k1=15., k2=25):\n",
    "    delta = (sim-np.average(sim))/np.average(sim)\n",
    "    bispec = PKL.Bk(delta, box_size, k1, k2, theta, MAS='None', threads=4)\n",
    "    return (bispec.B)"
   ]
  },
  {
   "cell_type": "code",
   "execution_count": 22,
   "metadata": {},
   "outputs": [
    {
     "name": "stdout",
     "output_type": "stream",
     "text": [
      "\n",
      "Computing bispectrum of the field...\n",
      "Time to compute bispectrum = 62.47\n"
     ]
    }
   ],
   "source": [
    "bispec_512 = get_bispectrum(np.load(sim512_grid512_path))"
   ]
  },
  {
   "cell_type": "code",
   "execution_count": 23,
   "metadata": {},
   "outputs": [
    {
     "name": "stdout",
     "output_type": "stream",
     "text": [
      "\n",
      "Computing bispectrum of the field...\n",
      "Time to compute bispectrum = 61.75\n"
     ]
    }
   ],
   "source": [
    "bispec_256 = get_bispectrum(np.load(sim512_grid512_path))"
   ]
  },
  {
   "cell_type": "code",
   "execution_count": 24,
   "metadata": {},
   "outputs": [
    {
     "name": "stdout",
     "output_type": "stream",
     "text": [
      "\n",
      "Computing bispectrum of the field...\n",
      "Time to compute bispectrum = 63.37\n"
     ]
    }
   ],
   "source": [
    "bispec_128 = get_bispectrum(np.load(sim512_grid512_path))"
   ]
  },
  {
   "cell_type": "code",
   "execution_count": 25,
   "metadata": {},
   "outputs": [
    {
     "data": {
      "image/png": "[encoded data removed]",
      "text/plain": [
       "<Figure size 432x288 with 1 Axes>"
      ]
     },
     "metadata": {
      "needs_background": "light"
     },
     "output_type": "display_data"
    }
   ],
   "source": [
    "theta=np.linspace(0, np.pi, 25)\n",
    "plt.plot(theta,bispec_512, label='512')\n",
    "plt.plot(theta,bispec_256, label='256')\n",
    "plt.plot(theta,bispec_128, label='128')\n",
    "\n",
    "plt.legend()\n",
    "plt.show()"
   ]
  },
  {
   "cell_type": "code",
   "execution_count": 28,
   "metadata": {},
   "outputs": [
    {
     "data": {
      "image/png": "[encoded data removed]",
      "text/plain": [
       "<Figure size 432x288 with 1 Axes>"
      ]
     },
     "metadata": {
      "needs_background": "light"
     },
     "output_type": "display_data"
    }
   ],
   "source": [
    "theta=np.linspace(0, np.pi, 25)\n",
    "plt.plot(theta,bispec_512/bispec_512, label='512')\n",
    "plt.plot(theta,bispec_256/bispec_512, label='256')\n",
    "plt.plot(theta,bispec_128/bispec_512, label='128')\n",
    "\n",
    "plt.legend()\n",
    "plt.show()"
   ]
  },
  {
   "cell_type": "markdown",
   "metadata": {},
   "source": [
    "Next comes the statistical analysis of the data samples. First we define a function which creates a logarithmic histogram of a given dataset and returns the histogram together with the middle value of a given bin."
   ]
  },
  {
   "cell_type": "code",
   "execution_count": 26,
   "metadata": {},
   "outputs": [],
   "source": [
    "def hist(data, min_value, max_value,bins=100):\n",
    "    edges = np.logspace(min_value, max_value, bins+1)\n",
    "    hist, _ = np.histogram(data,edges)\n",
    "    midpoints = np.zeros(len(edges)-1)\n",
    "    bin_widths = np.zeros(len(edges)-1)\n",
    "    for i in range(len(midpoints)):\n",
    "        midpoints[i] = np.power(10.,np.log10(edges[i])+np.log10(edges[i+1]/edges[i])/2)\n",
    "        bin_widths[i] = edges[i+1]-edges[i]\n",
    "    hist = hist/hist.sum()\n",
    "    hist = hist/bin_widths\n",
    "    return (midpoints, hist)"
   ]
  },
  {
   "cell_type": "markdown",
   "metadata": {},
   "source": [
    "Calculate the histograms of the overdensities of the datasets"
   ]
  },
  {
   "cell_type": "code",
   "execution_count": 27,
   "metadata": {},
   "outputs": [],
   "source": [
    "sim = np.load(sim512_grid512_path)\n",
    "delta =  (sim)/np.average(sim)\n",
    "midpoints, histogram = hist(delta, -3., 5.)\n",
    "del sim\n",
    "\n",
    "sim = np.load(sim256_grid512_path)\n",
    "delta =  (sim)/np.average(sim)\n",
    "midpoints256, histogram256 = hist(delta, -3., 5.)\n",
    "del sim\n",
    "\n",
    "sim = np.load(sr_path)\n",
    "delta =  (sim)/np.average(sim)\n",
    "midpoints_sr, histogram_sr = hist(delta, -3., 5.)\n",
    "del sim"
   ]
  },
  {
   "cell_type": "code",
   "execution_count": 28,
   "metadata": {},
   "outputs": [
    {
     "data": {
      "image/png": "[encoded data removed]",
      "text/plain": [
       "<Figure size 936x936 with 1 Axes>"
      ]
     },
     "metadata": {
      "needs_background": "light"
     },
     "output_type": "display_data"
    }
   ],
   "source": [
    "f = plt.figure(figsize=(13, 13))\n",
    "plt.plot(midpoints, histogram, label='sim512')\n",
    "plt.plot(midpoints256, histogram256, label='sim256')\n",
    "plt.plot(midpoints_sr, histogram_sr, label='SR')\n",
    "# plt.plot(midpointsTNG, histogramTNG, label='TNG')\n",
    "# plt.plot(midpointsInit, histogramInit, label='Init')\n",
    "#plt.plot(midpointsTNG, 1e-1*midpointsTNG**-2, '--', label='Fit')\n",
    "#plt.ylim((1e-5,2e-1))\n",
    "plt.yscale('log')\n",
    "plt.xscale('log')\n",
    "plt.legend()\n",
    "plt.show()"
   ]
  },
  {
   "cell_type": "markdown",
   "metadata": {},
   "source": [
    "Next define a function which calculates the power spectrum of the density grids"
   ]
  },
  {
   "cell_type": "code",
   "execution_count": 109,
   "metadata": {},
   "outputs": [],
   "source": [
    "def powerspectrum(delta,size=10, binsize=300):\n",
    "    position_space = ift.RGSpace([delta.shape[0], delta.shape[1], delta.shape[2]], \n",
    "                                 distances=(size/delta.shape[0], \n",
    "                                            size/delta.shape[1], size/delta.shape[2]))\n",
    "    harmonic_space = position_space.get_default_codomain()\n",
    "    HT = ift.HartleyOperator(harmonic_space, position_space)\n",
    "    image = ift.Field.from_global_data(position_space, delta)\n",
    "    ht_image = HT.inverse(image)\n",
    "    power_spec = ift.power_analyze(ht_image)\n",
    "    k_values = power_spec.domain[0].k_lengths\n",
    "    power_spec = ift.Field.to_global_data(power_spec)\n",
    "    binned_k = []\n",
    "    binned_power_spec = []\n",
    "    for i in range(int(power_spec.shape[0]/binsize)):\n",
    "        binned_k.append(np.average(k_values[i*binsize:(i+1)*binsize]))\n",
    "        binned_power_spec.append(np.average(power_spec[i*binsize:(i+1)*binsize]))\n",
    "\n",
    "    spectrum = np.zeros((2, len(binned_k)))\n",
    "    spectrum[0, ...] = binned_k\n",
    "    spectrum[1, ...] = binned_power_spec\n",
    "    return (spectrum[0,...], spectrum[1,...]/size**3)"
   ]
  },
  {
   "cell_type": "code",
   "execution_count": 48,
   "metadata": {},
   "outputs": [
    {
     "name": "stderr",
     "output_type": "stream",
     "text": [
      "/mpcdf/soft/SLE_12_SP4/packages/x86_64/anaconda/3/2019.03/lib/python3.7/site-packages/scipy/stats/_binned_statistic.py:600: ComplexWarning: Casting complex values to real discards the imaginary part\n",
      "  result[vv, i] = statistic(values[vv, binnumbers == i])\n"
     ]
    }
   ],
   "source": [
    "sim = np.load('/u/ivkos/Gridding/Output/TNG455.npy')\n",
    "delta =  (sim - np.average(sim))/np.average(sim)\n",
    "\n",
    "proj_power2, k_values2 = powerspectrum(delta, bins=100, sim_size=75)\n",
    "power_TNG=np.zeros((2,proj_power2.shape[0]))\n",
    "power_TNG[0,:]=k_values2\n",
    "power_TNG[1,:]=proj_power2\n",
    "np.save('powerspec_TNG', power_TNG)"
   ]
  },
  {
   "cell_type": "markdown",
   "metadata": {},
   "source": [
    "Calculate the power spectra of the simulation boxes"
   ]
  },
  {
   "cell_type": "code",
   "execution_count": 29,
   "metadata": {
    "scrolled": true
   },
   "outputs": [
    {
     "name": "stderr",
     "output_type": "stream",
     "text": [
      "/mpcdf/soft/SLE_12_SP4/packages/x86_64/anaconda/3/2019.03/lib/python3.7/site-packages/scipy/stats/_binned_statistic.py:600: ComplexWarning: Casting complex values to real discards the imaginary part\n",
      "  result[vv, i] = statistic(values[vv, binnumbers == i])\n"
     ]
    }
   ],
   "source": [
    "sim = np.load(sim512_grid512_path)\n",
    "delta =  (sim - np.average(sim))/np.average(sim)\n",
    "del sim\n",
    "proj_power, k_values = powerspectrum(delta, sim_size=10, grid_size=512)"
   ]
  },
  {
   "cell_type": "code",
   "execution_count": 30,
   "metadata": {},
   "outputs": [
    {
     "name": "stderr",
     "output_type": "stream",
     "text": [
      "/mpcdf/soft/SLE_12_SP4/packages/x86_64/anaconda/3/2019.03/lib/python3.7/site-packages/scipy/stats/_binned_statistic.py:600: ComplexWarning: Casting complex values to real discards the imaginary part\n",
      "  result[vv, i] = statistic(values[vv, binnumbers == i])\n"
     ]
    }
   ],
   "source": [
    "sim = np.load(Init_path)\n",
    "delta =  (sim - np.average(sim))/np.average(sim)\n",
    "del sim\n",
    "proj_power_init, k_values_init = powerspectrum(delta, sim_size=10, grid_size=512)"
   ]
  },
  {
   "cell_type": "markdown",
   "metadata": {},
   "source": [
    "Load the Eisenstein Hu powerspectrum for comparison"
   ]
  },
  {
   "cell_type": "code",
   "execution_count": 31,
   "metadata": {},
   "outputs": [],
   "source": [
    "EH_pow = np.loadtxt('/u/ivkos/Gridding/Output/EisensteinHuPow.txt')\n",
    "k_EH = EH_pow[500:,0]\n",
    "pow_EH = EH_pow[500:,2]"
   ]
  },
  {
   "cell_type": "code",
   "execution_count": 32,
   "metadata": {},
   "outputs": [
    {
     "data": {
      "image/png": "[encoded data removed]",
      "text/plain": [
       "<Figure size 936x936 with 1 Axes>"
      ]
     },
     "metadata": {
      "needs_background": "light"
     },
     "output_type": "display_data"
    }
   ],
   "source": [
    "f = plt.figure(figsize=(13, 13))\n",
    "plt.plot(k_values, proj_power/2.85e11, label='1512')\n",
    "plt.plot(k_values2, proj_power2/2.85e11, label='TNG')\n",
    "plt.plot(k_values_init, proj_power_init/2.85e11, label='Init')\n",
    "plt.plot(k_EH, 1e2*pow_EH, label='Eisenstein-Hu')\n",
    "\n",
    "plt.plot(k_values2, 1.5e3*np.power(k_values,-2.8),'--', label='test')\n",
    "plt.plot(k_values, 4e2*np.power(k_values,-2.8),'--', label='test2')\n",
    "plt.plot(k_values, 1e-2*np.power(k_values,-2.8),'--', label='test3')\n",
    "#plt.xlim((2e-1,1e1))\n",
    "#plt.ylim((1e9,1e12))\n",
    "plt.xscale('log')\n",
    "plt.yscale('log')\n",
    "plt.legend()\n",
    "plt.show()"
   ]
  },
  {
   "cell_type": "code",
   "execution_count": 154,
   "metadata": {},
   "outputs": [
    {
     "name": "stdout",
     "output_type": "stream",
     "text": [
      "(432,)\n"
     ]
    }
   ],
   "source": [
    "sim = np.load(sim512_grid512_path)\n",
    "delta =  (sim - np.average(sim))/np.average(sim)\n",
    "del sim\n",
    "k, proj_power_512 = powerspectrum(delta, binsize=326)\n",
    "\n",
    "# sim = np.load(sim256_grid512_path)\n",
    "# delta =  (sim - np.average(sim))/np.average(sim)\n",
    "# del sim\n",
    "# k, proj_power_256 = powerspectrum(delta)\n",
    "print(k.shape)"
   ]
  },
  {
   "cell_type": "code",
   "execution_count": 155,
   "metadata": {},
   "outputs": [
    {
     "name": "stdout",
     "output_type": "stream",
     "text": [
      "(512, 512, 512)\n",
      "\n",
      "Computing power spectrum of the field...\n",
      "Time to complete loop = 5.16\n",
      "Time taken = 5.71 seconds\n"
     ]
    }
   ],
   "source": [
    "sim = np.load(sim512_grid512_path)\n",
    "delta =  (sim - np.average(sim))/np.average(sim)\n",
    "print(delta.shape)\n",
    "Pk = PKL.Pk(delta, BoxSize=10., axis=0, MAS='None', threads=8)\n"
   ]
  },
  {
   "cell_type": "code",
   "execution_count": 172,
   "metadata": {},
   "outputs": [
    {
     "name": "stdout",
     "output_type": "stream",
     "text": [
      "1.3481058621899464\n",
      "[ 0.06151872  1.05708056  1.66915858  2.14519067  2.54267513  2.88711943\n",
      "  3.19117806  3.46482502  3.71417863  3.94465244  4.15879854  4.3563805\n",
      "  4.54197251  4.71646314  4.87994086  5.03532208  5.18291938  5.32317023\n",
      "  5.45732183  5.58389413  5.70501716  5.82066193  5.93128178  6.03740813\n",
      "  6.13899083  6.23742701  6.33181941  6.42181776  6.5088778   6.5923636\n",
      "  6.67290532  6.75030481  6.82454886  6.89655716  6.96663945  7.03414536\n",
      "  7.09918313  7.16152697  7.22178607  7.28015757  7.33629292  7.39068606\n",
      "  7.44376625  7.49465743  7.54345699  7.59127385  7.63716493  7.6815417\n",
      "  7.72389298  7.76496649  7.80506933  7.84317153  7.88057657  7.91628268\n",
      "  7.95063745  7.9843108   8.0161348   8.04722578  8.07727796  8.106241\n",
      "  8.13428605  8.16025705  8.18577543  8.21030983  8.23385912  8.25668642\n",
      "  8.27855064  8.29951556  8.31984835  8.33893553  8.35644131  8.37349487\n",
      "  8.39037282  8.40657409  8.42125611  8.43531394  8.44918959  8.46177218\n",
      "  8.47342789  8.48464826  8.49525402  8.50539775  8.5146377   8.52343444\n",
      "  8.53147415  8.53877787  8.545063    8.55098938  8.5567049   8.56136797\n",
      "  8.56552569  8.56910164  8.57199757  8.57468362  8.57686945  8.57815033\n",
      "  8.5790934   8.57953151  8.57961184  8.57916146  8.57777291  8.57598296\n",
      "  8.57404891  8.57131485  8.5684953   8.56489658  8.56102656  8.55694443\n",
      "  8.5519247   8.5466801   8.54100892  8.53469063  8.52788366  8.52058047\n",
      "  8.51365146  8.50639257  8.49806216  8.48934777  8.48015354  8.47090987\n",
      "  8.46115153  8.45060198  8.44029981  8.4299928   8.41863073  8.40722511\n",
      "  8.39532266  8.38306844  8.37039813  8.35739411  8.34437657  8.33070393\n",
      "  8.31669671  8.30224207  8.28750519  8.27272003  8.25754038  8.2417833\n",
      "  8.22608565  8.21011856  8.19387047  8.17711701  8.15975427  8.14255025\n",
      "  8.12530168  8.10754614  8.089462    8.07083371  8.05228911  8.03319336\n",
      "  8.01361876  7.99425315  7.97440085  7.95426121  7.93394045  7.91340417\n",
      "  7.89274557  7.87196458  7.85045721  7.82874468  7.80689311  7.78487289\n",
      "  7.76271429  7.73996574  7.71715554  7.69463206  7.67150252  7.64804443\n",
      "  7.62404801  7.60018681  7.57615772  7.55139231  7.52687492  7.50207186\n",
      "  7.47700327  7.45152818  7.42604888  7.40071633  7.3749741   7.34875526\n",
      "  7.3223605   7.29589295  7.26919663  7.24229143  7.21497874  7.18786827\n",
      "  7.16067179  7.13290962  7.10512507  7.07700411  7.04866293  7.02013084\n",
      "  6.99145837  6.96268934  6.93352346  6.90442326  6.87514801  6.84552243\n",
      "  6.81585205  6.78604124  6.75601155  6.72549815  6.694897    6.66454138\n",
      "  6.63392246  6.60292904  6.57176342  6.54058984  6.50933877  6.47775882\n",
      "  6.44589245  6.41390344  6.38173822  6.34946342  6.3172524   6.28468722\n",
      "  6.2518381   6.2188346   6.1858571   6.15284565  6.11944913  6.08583721\n",
      "  6.05215705  6.01841505  5.98448571  5.95059183  5.91656009  5.88237351\n",
      "  5.84783907  5.81318605  5.77843497  5.74334083  5.70806044  5.67284933\n",
      "  5.63764171  5.60218197  5.56647655  5.53084232  5.49506556  5.45890624\n",
      "  5.42289938  5.38686907  5.35037912  5.31356236  5.27689982  5.2402257\n",
      "  5.20329484  5.16620858  5.12918117  5.09194382  5.05460381  5.01710298\n",
      "  4.97929201  4.94129787  4.90344051  4.86582761  4.82780569  4.78923981\n",
      "  4.7509044   4.71241549  4.67372996  4.63504493  4.59624163  4.55734826\n",
      "  4.51804128  4.47893434  4.4398819   4.40035818  4.36078361  4.3211712\n",
      "  4.28140389  4.24144648  4.20151371  4.16132984  4.12123953  4.080813\n",
      "  4.04036014  4.00003197  3.95933797  3.91844992  3.87749101  3.83655871\n",
      "  3.79560872  3.75432622  3.71303993  3.67177978  3.63015381  3.58853981\n",
      "  3.54681103  3.50524373  3.46348414  3.42155697  3.37978984  3.33786441\n",
      "  3.29543191  3.25278503  3.21071896  3.16848629  3.12592037  3.0831004\n",
      "  3.04025153  2.99744544  2.95453112  2.91142515  2.86814486  2.82493154\n",
      "  2.78159848  2.7381533   2.69506245  2.65168706  2.60772529  2.56387645\n",
      "  2.52021715  2.47643543  2.43261369  2.38827494  2.34404437  2.29959477\n",
      "  2.25530315  2.21133569  2.16736071  2.12329151  2.07863878  2.03396954\n",
      "  1.98911833  1.94415276  1.89927083  1.85449059  1.80936381  1.76441724\n",
      "  1.71947419  1.67406158  1.62854983  1.58330913  1.53811061  1.49292943\n",
      "  1.44774031  1.40233429  1.35664111  1.31134572  1.26546842  1.2198816\n",
      "  1.17506169  1.1293359   1.08316833  1.0378081   0.9922229   0.94627518\n",
      "  0.9007602   0.8552425   0.80873543  0.76209359  0.71701895  0.67114506\n",
      "  0.62535896  0.57988591  0.53393365  0.48814034  0.44206688  0.39679394\n",
      "  0.35158563  0.30578626  0.2590603   0.21277013  0.16806305  0.12271925\n",
      "  0.07539564  0.02965594 -0.01509498 -0.06094958 -0.10756796 -0.15182865\n",
      " -0.19521732 -0.23908415 -0.28257304 -0.32717319 -0.37146248 -0.41529512\n",
      " -0.46020498 -0.50368426 -0.54843451 -0.59390661 -0.63813932 -0.68156222\n",
      " -0.72561521 -0.76913389 -0.81074017 -0.85333891 -0.89640325 -0.93796541\n",
      " -0.97928016 -1.02172138 -1.06336788 -1.10448827 -1.1432831  -1.18418503\n",
      " -1.22588224 -1.2650484  -1.30038119 -1.33989697 -1.37841524 -1.41206704\n",
      " -1.44755847 -1.48423055 -1.51782564 -1.54987356 -1.58199791 -1.61773911\n",
      " -1.64727837 -1.6728353  -1.70779014 -1.73926324 -1.76408912 -1.78024707\n",
      " -1.8072861  -1.83455785 -1.84343141 -1.85130107 -1.87547358 -1.89519743\n",
      " -1.88594183 -1.87533668 -1.89002879 -1.8902579  -1.85847392 -1.81905665\n",
      " -1.79578019 -1.75575328 -1.67179522 -1.54184152 -1.38430667 -1.08504813]\n"
     ]
    }
   ],
   "source": [
    "print(Pk.k3D[12]/(2*np.pi))\n",
    "print(k-Pk.k3D[11:]/(2*np.pi))"
   ]
  },
  {
   "cell_type": "code",
   "execution_count": 20,
   "metadata": {},
   "outputs": [
    {
     "ename": "NameError",
     "evalue": "name 'k' is not defined",
     "output_type": "error",
     "traceback": [
      "\u001b[0;31m---------------------------------------------------------------------------\u001b[0m",
      "\u001b[0;31mNameError\u001b[0m                                 Traceback (most recent call last)",
      "\u001b[0;32m<ipython-input-20-6b1fbbcc0fa8>\u001b[0m in \u001b[0;36m<module>\u001b[0;34m\u001b[0m\n\u001b[1;32m      1\u001b[0m \u001b[0mf\u001b[0m \u001b[0;34m=\u001b[0m \u001b[0mplt\u001b[0m\u001b[0;34m.\u001b[0m\u001b[0mfigure\u001b[0m\u001b[0;34m(\u001b[0m\u001b[0mfigsize\u001b[0m\u001b[0;34m=\u001b[0m\u001b[0;34m(\u001b[0m\u001b[0;36m13\u001b[0m\u001b[0;34m,\u001b[0m \u001b[0;36m13\u001b[0m\u001b[0;34m)\u001b[0m\u001b[0;34m)\u001b[0m\u001b[0;34m\u001b[0m\u001b[0;34m\u001b[0m\u001b[0m\n\u001b[0;32m----> 2\u001b[0;31m \u001b[0mplt\u001b[0m\u001b[0;34m.\u001b[0m\u001b[0mplot\u001b[0m\u001b[0;34m(\u001b[0m\u001b[0mk\u001b[0m\u001b[0;34m,\u001b[0m \u001b[0mproj_power_512\u001b[0m\u001b[0;34m,\u001b[0m \u001b[0mlabel\u001b[0m\u001b[0;34m=\u001b[0m\u001b[0;34m'512'\u001b[0m\u001b[0;34m)\u001b[0m\u001b[0;34m\u001b[0m\u001b[0;34m\u001b[0m\u001b[0m\n\u001b[0m\u001b[1;32m      3\u001b[0m \u001b[0mplt\u001b[0m\u001b[0;34m.\u001b[0m\u001b[0mplot\u001b[0m\u001b[0;34m(\u001b[0m\u001b[0mPk\u001b[0m\u001b[0;34m.\u001b[0m\u001b[0mk3D\u001b[0m\u001b[0;34m[\u001b[0m\u001b[0;36m11\u001b[0m\u001b[0;34m:\u001b[0m\u001b[0;34m]\u001b[0m\u001b[0;34m,\u001b[0m \u001b[0mPk\u001b[0m\u001b[0;34m.\u001b[0m\u001b[0mPk\u001b[0m\u001b[0;34m[\u001b[0m\u001b[0;34m:\u001b[0m\u001b[0;34m,\u001b[0m\u001b[0;36m0\u001b[0m\u001b[0;34m]\u001b[0m\u001b[0;34m[\u001b[0m\u001b[0;36m11\u001b[0m\u001b[0;34m:\u001b[0m\u001b[0;34m]\u001b[0m\u001b[0;34m,\u001b[0m \u001b[0mlabel\u001b[0m\u001b[0;34m=\u001b[0m\u001b[0;34m'512 confirm'\u001b[0m\u001b[0;34m)\u001b[0m\u001b[0;34m\u001b[0m\u001b[0;34m\u001b[0m\u001b[0m\n\u001b[1;32m      4\u001b[0m \u001b[0;34m\u001b[0m\u001b[0m\n\u001b[1;32m      5\u001b[0m \u001b[0;31m#plt.plot(k, proj_power_256, label='256')\u001b[0m\u001b[0;34m\u001b[0m\u001b[0;34m\u001b[0m\u001b[0;34m\u001b[0m\u001b[0m\n",
      "\u001b[0;31mNameError\u001b[0m: name 'k' is not defined"
     ]
    },
    {
     "data": {
      "text/plain": [
       "<Figure size 936x936 with 0 Axes>"
      ]
     },
     "metadata": {},
     "output_type": "display_data"
    }
   ],
   "source": [
    "f = plt.figure(figsize=(13, 13))\n",
    "plt.plot(k, proj_power_512, label='512')\n",
    "plt.plot(Pk.k3D[11:], Pk.Pk[:,0][11:], label='512 confirm')\n",
    "\n",
    "#plt.plot(k, proj_power_256, label='256')\n",
    "\n",
    "plt.xscale('log')\n",
    "plt.yscale('log')\n",
    "plt.legend()\n",
    "plt.show()"
   ]
  },
  {
   "cell_type": "code",
   "execution_count": null,
   "metadata": {},
   "outputs": [],
   "source": []
  }
 ],
 "metadata": {
  "kernelspec": {
   "display_name": "nifty",
   "language": "python",
   "name": "nifty"
  },
  "language_info": {
   "codemirror_mode": {
    "name": "ipython",
    "version": 3
   },
   "file_extension": ".py",
   "mimetype": "text/x-python",
   "name": "python",
   "nbconvert_exporter": "python",
   "pygments_lexer": "ipython3",
   "version": "3.7.6"
  }
 },
 "nbformat": 4,
 "nbformat_minor": 2
}
